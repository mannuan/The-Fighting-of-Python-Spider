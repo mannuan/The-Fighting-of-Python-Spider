{
 "cells": [
  {
   "cell_type": "code",
   "execution_count": 1,
   "metadata": {},
   "outputs": [
    {
     "data": {
      "text/plain": [
       "'/home/mannuan'"
      ]
     },
     "execution_count": 1,
     "metadata": {},
     "output_type": "execute_result"
    }
   ],
   "source": [
    "import os\n",
    "os.getcwd()"
   ]
  },
  {
   "cell_type": "code",
   "execution_count": 3,
   "metadata": {},
   "outputs": [
    {
     "name": "stdout",
     "output_type": "stream",
     "text": [
      "<!DOCTYPE html>\n<html lang=\"en\">\n<head>\n    \t<meta http-equiv=\"Content-Type\" content=\"text/html; charset=UTF-8\">\n    \t<title>h1</title>\n</head>\n<body>\n\t<video width=\"1000\" height=\"600\" controls=\"controls\">\n    \t<source src=\"player.mp4\" type=\"video/mp4\">\n    \t</video>\n</body>\n</html>\n\n"
     ]
    }
   ],
   "source": [
    "with open('shared/web/h1/index.html','r') as fileReader:\n",
    "    print(fileReader.read())"
   ]
  },
  {
   "cell_type": "code",
   "execution_count": 4,
   "metadata": {},
   "outputs": [
    {
     "data": {
      "text/plain": [
       "['.bash_history',\n 'vmware',\n '.codeblocks-workspace',\n '.ipynb_checkpoints',\n 'test.c',\n '.profile',\n 'test2.sh',\n '.PyCharm2017.2',\n '.config',\n '模板',\n 'mannuan',\n 'shared',\n 'qol-ovs',\n '.android',\n '公共',\n '.gconf',\n '.ipython',\n '.gksu.lock',\n '.sogouinput',\n '.PyCharmCE2017.2',\n '.vmware',\n '.nano',\n '.python_history',\n '.presage',\n '文档',\n '.bashrc-anaconda3.bak',\n 'VirtualBox VMs',\n '.dbus',\n 'qol-apps',\n '桌面',\n 'Machine Learning',\n '音乐',\n '.IdeaProjects',\n '.wine',\n '.fonts',\n 'mininet',\n '.eclipse-cpp-workspace',\n '.FTPServer.py',\n '.ICEauthority',\n '.gimp-2.8',\n 'test.sh',\n '.bashrc',\n '.pki',\n '.ssh',\n '.PlayOnLinux',\n '下载',\n '.bash_logout',\n '.gnome',\n '.eclipse-jee-workspace',\n 'openflow',\n '.java',\n 'tmp',\n 'Untitled.ipynb',\n 'qol-fl',\n '.jupyter',\n '.local',\n '.oracle_jre_usage',\n '.swt',\n '.goldendict',\n '视频',\n '.p2',\n '.cache',\n '图片',\n '.IntelliJIdea2017.2',\n 'tutorials',\n 'PycharmProjects',\n '.gnupg',\n 'data',\n '.tooling',\n '.mozilla',\n '.eclipse',\n '.Genymobile',\n '.xinputrc',\n '新建文档',\n '.kingsoft',\n '.sunpinyin']"
      ]
     },
     "execution_count": 4,
     "metadata": {},
     "output_type": "execute_result"
    }
   ],
   "source": [
    "import os\n",
    "os.listdir()"
   ]
  },
  {
   "cell_type": "code",
   "execution_count": 1,
   "metadata": {},
   "outputs": [
    {
     "name": "stdout",
     "output_type": "stream",
     "text": [
      "123\n"
     ]
    }
   ],
   "source": [
    "print(\"123\")"
   ]
  },
  {
   "cell_type": "code",
   "execution_count": null,
   "metadata": {},
   "outputs": [],
   "source": []
  }
 ],
 "metadata": {
  "kernelspec": {
   "display_name": "Python 2",
   "language": "python",
   "name": "python2"
  },
  "language_info": {
   "codemirror_mode": {
    "name": "ipython",
    "version": 2
   },
   "file_extension": ".py",
   "mimetype": "text/x-python",
   "name": "python",
   "nbconvert_exporter": "python",
   "pygments_lexer": "ipython2",
   "version": "2.7.6"
  }
 },
 "nbformat": 4,
 "nbformat_minor": 0
}
